{
 "cells": [
  {
   "attachments": {},
   "cell_type": "markdown",
   "metadata": {},
   "source": [
    "# TODO\n",
    "1. interaction\n",
    "2. atrifical datasets\n",
    "3. tests + compare with R package\n",
    "4. find two datasets"
   ]
  },
  {
   "cell_type": "code",
   "execution_count": 8,
   "metadata": {},
   "outputs": [],
   "source": [
    "import numpy as np\n",
    "import pandas as pd\n",
    "from numpy.linalg import inv\n",
    "np.set_printoptions(suppress = True)"
   ]
  },
  {
   "cell_type": "code",
   "execution_count": 9,
   "metadata": {},
   "outputs": [],
   "source": [
    "def logit(x):\n",
    "    return np.log(x/(1-x)) \n",
    "\n",
    "def logit_der(x):\n",
    "    return 1 / (x * (1 - x))\n",
    "\n",
    "def logit_inv(x):\n",
    "    return 1/(1+np.exp(-x)) "
   ]
  },
  {
   "cell_type": "code",
   "execution_count": 183,
   "metadata": {},
   "outputs": [],
   "source": [
    "data = '../../data/airquality.csv'\n",
    "\n",
    "df = pd.read_csv(data)\n",
    "\n",
    "X = df.drop(['Ozone'], axis=1)\n",
    "\n",
    "y = df['Ozone'].reset_index(drop=True)\n",
    "\n"
   ]
  },
  {
   "attachments": {},
   "cell_type": "markdown",
   "metadata": {},
   "source": [
    "1. Get p = (p(x1,beta), p(x2,beta), ... , p(xn,beta))\n",
    "2. Get W = diag((p(x1,beta)*(1-p(x1,beta)), p(x2,beta)*(1-p(x2,beta)), ... , p(xn,beta)*(1-p(x2,beta))))"
   ]
  },
  {
   "cell_type": "code",
   "execution_count": 233,
   "metadata": {},
   "outputs": [],
   "source": [
    "class IWLS:\n",
    "\n",
    "    def __init__(self):\n",
    "        self.AIC = None\n",
    "        self.BIC = None\n",
    "        self.log_likelihood = []\n",
    "        self.log_likelihood_path = []\n",
    "        self.iterations = 0\n",
    "        self.beta = None\n",
    "\n",
    "    def fit(self, X, y, max_iter = 100, delta_limit = 0.01, standarize = True, interaction = None):\n",
    "\n",
    "        was_array = isinstance(X, np.ndarray)\n",
    "        if was_array:\n",
    "            X = pd.DataFrame(X)\n",
    "        colnames = X.columns.tolist()\n",
    "\n",
    "        if isinstance(y, np.ndarray):\n",
    "            y = pd.DataFrame({\"y\": y})\n",
    "\n",
    "        if(standarize):\n",
    "            X = (X - np.mean(X, axis=0)) / np.std(X,axis=0)\n",
    "\n",
    "        if(self.beta is None):\n",
    "            beta = X.iloc[0].copy(deep = True) * 0\n",
    "            p = logit_inv(X @ beta)\n",
    "            iteration = 0\n",
    "\n",
    "        delta = 10000\n",
    "        self.log_likelihood_path.append(self.Log_likelihood(p,y))\n",
    "        while delta > delta_limit and iteration < max_iter:\n",
    "            iteration += 1\n",
    "            W = np.diag(p * (1-p))\n",
    "            z = X @ beta + inv(W) @ (y - p)\n",
    "            beta = inv(X.T @ W @ X) @ X.T @ W @ z\n",
    "            beta = pd.DataFrame({\"coeff\" : beta.values}, index=colnames)\n",
    "            p = logit_inv(np.array(X @ beta))\n",
    "\n",
    "            self.log_likelihood_path.append(self.Log_likelihood(p,y))\n",
    "            delta = np.abs(self.log_likelihood_path[iteration] - self.log_likelihood_path[iteration - 1])\n",
    "\n",
    "        self.iterations = iteration\n",
    "        self.log_likelihood = self.log_likelihood_path[iteration]\n",
    "\n",
    "        if not was_array:\n",
    "            self.beta = pd.DataFrame({\"coeff\" : beta}, index=colnames)\n",
    "        else:\n",
    "            self.beta = beta\n",
    "\n",
    "    @staticmethod\n",
    "    def Log_likelihood(p, y):\n",
    "    \n",
    "        # Log-likelihood of logistic regression\n",
    "        L = y * np.log(p) + (1 - y) * np.log(1 - p)\n",
    "        return sum(L)"
   ]
  },
  {
   "cell_type": "code",
   "execution_count": 234,
   "metadata": {},
   "outputs": [],
   "source": [
    "iwls = IWLS()"
   ]
  },
  {
   "cell_type": "code",
   "execution_count": 235,
   "metadata": {},
   "outputs": [
    {
     "data": {
      "text/html": [
       "<div>\n",
       "<style scoped>\n",
       "    .dataframe tbody tr th:only-of-type {\n",
       "        vertical-align: middle;\n",
       "    }\n",
       "\n",
       "    .dataframe tbody tr th {\n",
       "        vertical-align: top;\n",
       "    }\n",
       "\n",
       "    .dataframe thead th {\n",
       "        text-align: right;\n",
       "    }\n",
       "</style>\n",
       "<table border=\"1\" class=\"dataframe\">\n",
       "  <thead>\n",
       "    <tr style=\"text-align: right;\">\n",
       "      <th></th>\n",
       "      <th>coeff</th>\n",
       "    </tr>\n",
       "  </thead>\n",
       "  <tbody>\n",
       "    <tr>\n",
       "      <th>0</th>\n",
       "      <td>-0.162597</td>\n",
       "    </tr>\n",
       "    <tr>\n",
       "      <th>1</th>\n",
       "      <td>-0.070894</td>\n",
       "    </tr>\n",
       "    <tr>\n",
       "      <th>2</th>\n",
       "      <td>-1.235133</td>\n",
       "    </tr>\n",
       "    <tr>\n",
       "      <th>3</th>\n",
       "      <td>-1.511410</td>\n",
       "    </tr>\n",
       "    <tr>\n",
       "      <th>4</th>\n",
       "      <td>-0.528302</td>\n",
       "    </tr>\n",
       "    <tr>\n",
       "      <th>...</th>\n",
       "      <td>...</td>\n",
       "    </tr>\n",
       "    <tr>\n",
       "      <th>106</th>\n",
       "      <td>-3.761472</td>\n",
       "    </tr>\n",
       "    <tr>\n",
       "      <th>107</th>\n",
       "      <td>-0.726497</td>\n",
       "    </tr>\n",
       "    <tr>\n",
       "      <th>108</th>\n",
       "      <td>-2.506621</td>\n",
       "    </tr>\n",
       "    <tr>\n",
       "      <th>109</th>\n",
       "      <td>-0.702110</td>\n",
       "    </tr>\n",
       "    <tr>\n",
       "      <th>110</th>\n",
       "      <td>-2.053612</td>\n",
       "    </tr>\n",
       "  </tbody>\n",
       "</table>\n",
       "<p>111 rows × 1 columns</p>\n",
       "</div>"
      ],
      "text/plain": [
       "        coeff\n",
       "0   -0.162597\n",
       "1   -0.070894\n",
       "2   -1.235133\n",
       "3   -1.511410\n",
       "4   -0.528302\n",
       "..        ...\n",
       "106 -3.761472\n",
       "107 -0.726497\n",
       "108 -2.506621\n",
       "109 -0.702110\n",
       "110 -2.053612\n",
       "\n",
       "[111 rows x 1 columns]"
      ]
     },
     "execution_count": 235,
     "metadata": {},
     "output_type": "execute_result"
    }
   ],
   "source": [
    "X @ beta"
   ]
  },
  {
   "cell_type": "code",
   "execution_count": 236,
   "metadata": {},
   "outputs": [
    {
     "ename": "TypeError",
     "evalue": "unsupported operand type(s) for +: 'int' and 'str'",
     "output_type": "error",
     "traceback": [
      "\u001b[0;31m---------------------------------------------------------------------------\u001b[0m",
      "\u001b[0;31mTypeError\u001b[0m                                 Traceback (most recent call last)",
      "Cell \u001b[0;32mIn[236], line 1\u001b[0m\n\u001b[0;32m----> 1\u001b[0m iwls\u001b[39m.\u001b[39;49mfit(X, y, standarize\u001b[39m=\u001b[39;49m\u001b[39mFalse\u001b[39;49;00m)\n",
      "Cell \u001b[0;32mIn[233], line 30\u001b[0m, in \u001b[0;36mIWLS.fit\u001b[0;34m(self, X, y, max_iter, delta_limit, standarize, interaction)\u001b[0m\n\u001b[1;32m     27\u001b[0m     iteration \u001b[39m=\u001b[39m \u001b[39m0\u001b[39m\n\u001b[1;32m     29\u001b[0m delta \u001b[39m=\u001b[39m \u001b[39m10000\u001b[39m\n\u001b[0;32m---> 30\u001b[0m \u001b[39mself\u001b[39m\u001b[39m.\u001b[39mlog_likelihood_path\u001b[39m.\u001b[39mappend(\u001b[39mself\u001b[39;49m\u001b[39m.\u001b[39;49mLog_likelihood(p,y))\n\u001b[1;32m     31\u001b[0m \u001b[39mwhile\u001b[39;00m delta \u001b[39m>\u001b[39m delta_limit \u001b[39mand\u001b[39;00m iteration \u001b[39m<\u001b[39m max_iter:\n\u001b[1;32m     32\u001b[0m     iteration \u001b[39m+\u001b[39m\u001b[39m=\u001b[39m \u001b[39m1\u001b[39m\n",
      "Cell \u001b[0;32mIn[233], line 55\u001b[0m, in \u001b[0;36mIWLS.Log_likelihood\u001b[0;34m(p, y)\u001b[0m\n\u001b[1;32m     50\u001b[0m \u001b[39m@staticmethod\u001b[39m\n\u001b[1;32m     51\u001b[0m \u001b[39mdef\u001b[39;00m \u001b[39mLog_likelihood\u001b[39m(p, y):\n\u001b[1;32m     52\u001b[0m \n\u001b[1;32m     53\u001b[0m     \u001b[39m# Log-likelihood of logistic regression\u001b[39;00m\n\u001b[1;32m     54\u001b[0m     L \u001b[39m=\u001b[39m y \u001b[39m*\u001b[39m np\u001b[39m.\u001b[39mlog(p) \u001b[39m+\u001b[39m (\u001b[39m1\u001b[39m \u001b[39m-\u001b[39m y) \u001b[39m*\u001b[39m np\u001b[39m.\u001b[39mlog(\u001b[39m1\u001b[39m \u001b[39m-\u001b[39m p)\n\u001b[0;32m---> 55\u001b[0m     \u001b[39mreturn\u001b[39;00m \u001b[39msum\u001b[39;49m(L)\n",
      "\u001b[0;31mTypeError\u001b[0m: unsupported operand type(s) for +: 'int' and 'str'"
     ]
    }
   ],
   "source": [
    "iwls.fit(X, y, standarize=False)"
   ]
  },
  {
   "cell_type": "code",
   "execution_count": 180,
   "metadata": {},
   "outputs": [
    {
     "data": {
      "text/plain": [
       "-45.23356238626713"
      ]
     },
     "execution_count": 180,
     "metadata": {},
     "output_type": "execute_result"
    }
   ],
   "source": [
    "iwls.log_likelihood"
   ]
  },
  {
   "cell_type": "code",
   "execution_count": 181,
   "metadata": {},
   "outputs": [
    {
     "data": {
      "text/html": [
       "<div>\n",
       "<style scoped>\n",
       "    .dataframe tbody tr th:only-of-type {\n",
       "        vertical-align: middle;\n",
       "    }\n",
       "\n",
       "    .dataframe tbody tr th {\n",
       "        vertical-align: top;\n",
       "    }\n",
       "\n",
       "    .dataframe thead th {\n",
       "        text-align: right;\n",
       "    }\n",
       "</style>\n",
       "<table border=\"1\" class=\"dataframe\">\n",
       "  <thead>\n",
       "    <tr style=\"text-align: right;\">\n",
       "      <th></th>\n",
       "      <th>coeff</th>\n",
       "    </tr>\n",
       "  </thead>\n",
       "  <tbody>\n",
       "    <tr>\n",
       "      <th>0</th>\n",
       "      <td>0.056266</td>\n",
       "    </tr>\n",
       "    <tr>\n",
       "      <th>1</th>\n",
       "      <td>-0.238037</td>\n",
       "    </tr>\n",
       "    <tr>\n",
       "      <th>2</th>\n",
       "      <td>1.823974</td>\n",
       "    </tr>\n",
       "    <tr>\n",
       "      <th>3</th>\n",
       "      <td>-0.465634</td>\n",
       "    </tr>\n",
       "    <tr>\n",
       "      <th>4</th>\n",
       "      <td>0.481854</td>\n",
       "    </tr>\n",
       "  </tbody>\n",
       "</table>\n",
       "</div>"
      ],
      "text/plain": [
       "      coeff\n",
       "0  0.056266\n",
       "1 -0.238037\n",
       "2  1.823974\n",
       "3 -0.465634\n",
       "4  0.481854"
      ]
     },
     "execution_count": 181,
     "metadata": {},
     "output_type": "execute_result"
    }
   ],
   "source": [
    "iwls.beta"
   ]
  },
  {
   "cell_type": "code",
   "execution_count": 154,
   "metadata": {},
   "outputs": [],
   "source": [
    "interactions = np.array([[1,2], [3,4]])"
   ]
  },
  {
   "cell_type": "code",
   "execution_count": 165,
   "metadata": {},
   "outputs": [
    {
     "data": {
      "text/plain": [
       "0     -2.868311\n",
       "1     -2.190661\n",
       "2      3.004655\n",
       "3      1.762297\n",
       "4     -1.513011\n",
       "         ...   \n",
       "106    7.522322\n",
       "107   -3.433020\n",
       "108    4.924664\n",
       "109   -2.190661\n",
       "110    1.762297\n",
       "Name: 1, Length: 111, dtype: float64"
      ]
     },
     "execution_count": 165,
     "metadata": {},
     "output_type": "execute_result"
    }
   ],
   "source": [
    "X.iloc[:,1] "
   ]
  },
  {
   "cell_type": "code",
   "execution_count": 54,
   "metadata": {},
   "outputs": [
    {
     "data": {
      "text/plain": [
       "array([[1, 2],\n",
       "       [3, 4]])"
      ]
     },
     "execution_count": 54,
     "metadata": {},
     "output_type": "execute_result"
    }
   ],
   "source": [
    "for interaction in interactions:\n",
    "    print(X.imag)"
   ]
  },
  {
   "cell_type": "code",
   "execution_count": 61,
   "metadata": {},
   "outputs": [],
   "source": [
    "X = df.drop(['Ozone'], axis=1)\n",
    "\n",
    "y = df['Ozone'].reset_index(drop=True)\n"
   ]
  },
  {
   "cell_type": "code",
   "execution_count": 57,
   "metadata": {},
   "outputs": [
    {
     "data": {
      "text/html": [
       "<div>\n",
       "<style scoped>\n",
       "    .dataframe tbody tr th:only-of-type {\n",
       "        vertical-align: middle;\n",
       "    }\n",
       "\n",
       "    .dataframe tbody tr th {\n",
       "        vertical-align: top;\n",
       "    }\n",
       "\n",
       "    .dataframe thead th {\n",
       "        text-align: right;\n",
       "    }\n",
       "</style>\n",
       "<table border=\"1\" class=\"dataframe\">\n",
       "  <thead>\n",
       "    <tr style=\"text-align: right;\">\n",
       "      <th></th>\n",
       "      <th>Solar.R</th>\n",
       "      <th>Wind</th>\n",
       "      <th>Temp</th>\n",
       "      <th>Month</th>\n",
       "      <th>Day</th>\n",
       "    </tr>\n",
       "  </thead>\n",
       "  <tbody>\n",
       "    <tr>\n",
       "      <th>0</th>\n",
       "      <td>190</td>\n",
       "      <td>7.4</td>\n",
       "      <td>67</td>\n",
       "      <td>5</td>\n",
       "      <td>1</td>\n",
       "    </tr>\n",
       "    <tr>\n",
       "      <th>1</th>\n",
       "      <td>118</td>\n",
       "      <td>8.0</td>\n",
       "      <td>72</td>\n",
       "      <td>5</td>\n",
       "      <td>2</td>\n",
       "    </tr>\n",
       "    <tr>\n",
       "      <th>2</th>\n",
       "      <td>149</td>\n",
       "      <td>12.6</td>\n",
       "      <td>74</td>\n",
       "      <td>5</td>\n",
       "      <td>3</td>\n",
       "    </tr>\n",
       "    <tr>\n",
       "      <th>3</th>\n",
       "      <td>313</td>\n",
       "      <td>11.5</td>\n",
       "      <td>62</td>\n",
       "      <td>5</td>\n",
       "      <td>4</td>\n",
       "    </tr>\n",
       "    <tr>\n",
       "      <th>4</th>\n",
       "      <td>299</td>\n",
       "      <td>8.6</td>\n",
       "      <td>65</td>\n",
       "      <td>5</td>\n",
       "      <td>7</td>\n",
       "    </tr>\n",
       "    <tr>\n",
       "      <th>...</th>\n",
       "      <td>...</td>\n",
       "      <td>...</td>\n",
       "      <td>...</td>\n",
       "      <td>...</td>\n",
       "      <td>...</td>\n",
       "    </tr>\n",
       "    <tr>\n",
       "      <th>106</th>\n",
       "      <td>20</td>\n",
       "      <td>16.6</td>\n",
       "      <td>63</td>\n",
       "      <td>9</td>\n",
       "      <td>25</td>\n",
       "    </tr>\n",
       "    <tr>\n",
       "      <th>107</th>\n",
       "      <td>193</td>\n",
       "      <td>6.9</td>\n",
       "      <td>70</td>\n",
       "      <td>9</td>\n",
       "      <td>26</td>\n",
       "    </tr>\n",
       "    <tr>\n",
       "      <th>108</th>\n",
       "      <td>191</td>\n",
       "      <td>14.3</td>\n",
       "      <td>75</td>\n",
       "      <td>9</td>\n",
       "      <td>28</td>\n",
       "    </tr>\n",
       "    <tr>\n",
       "      <th>109</th>\n",
       "      <td>131</td>\n",
       "      <td>8.0</td>\n",
       "      <td>76</td>\n",
       "      <td>9</td>\n",
       "      <td>29</td>\n",
       "    </tr>\n",
       "    <tr>\n",
       "      <th>110</th>\n",
       "      <td>223</td>\n",
       "      <td>11.5</td>\n",
       "      <td>68</td>\n",
       "      <td>9</td>\n",
       "      <td>30</td>\n",
       "    </tr>\n",
       "  </tbody>\n",
       "</table>\n",
       "<p>111 rows × 5 columns</p>\n",
       "</div>"
      ],
      "text/plain": [
       "     Solar.R  Wind  Temp  Month  Day\n",
       "0        190   7.4    67      5    1\n",
       "1        118   8.0    72      5    2\n",
       "2        149  12.6    74      5    3\n",
       "3        313  11.5    62      5    4\n",
       "4        299   8.6    65      5    7\n",
       "..       ...   ...   ...    ...  ...\n",
       "106       20  16.6    63      9   25\n",
       "107      193   6.9    70      9   26\n",
       "108      191  14.3    75      9   28\n",
       "109      131   8.0    76      9   29\n",
       "110      223  11.5    68      9   30\n",
       "\n",
       "[111 rows x 5 columns]"
      ]
     },
     "execution_count": 57,
     "metadata": {},
     "output_type": "execute_result"
    }
   ],
   "source": [
    "X"
   ]
  },
  {
   "cell_type": "code",
   "execution_count": 64,
   "metadata": {},
   "outputs": [
    {
     "data": {
      "text/plain": [
       "0      0\n",
       "1      0\n",
       "2      0\n",
       "3      0\n",
       "4      0\n",
       "      ..\n",
       "106    0\n",
       "107    0\n",
       "108    0\n",
       "109    0\n",
       "110    0\n",
       "Name: Ozone, Length: 111, dtype: int64"
      ]
     },
     "execution_count": 64,
     "metadata": {},
     "output_type": "execute_result"
    }
   ],
   "source": [
    "f(standarize):\n",
    "            X = (X - np.mean(X, axis=0)) / np.std(X,axis=0)\n",
    "\n",
    "        if(self.beta is None):\n",
    "            beta = X.iloc[0].copy(deep = True) * 0\n",
    "            p = logit_inv(X @ beta)\n",
    "            iteration = 0\n",
    "\n",
    "        delta = 10000\n",
    "        self.log_likelihood_path.append(self.Log_likelihood(p,y))\n",
    "        while delta > delta_limit and iteration < max_iter:\n",
    "            iteration += 1\n",
    "            W = np.diag(p * (1-p))\n",
    "            z = X @ beta + inv(W) @ (y - p)\n",
    "            beta = inv(X.T @ W @ X) @ X.T @ W @ z\n",
    "            p = logit_inv(X @ beta)\n",
    "\n",
    "            self.log_likelihood_path.append(self.Log_likelihood(p,y))\n",
    "            delta = np.abs(self.log_likelihood_path[iteration] - self.log_likelihood_path[iteration - 1])"
   ]
  },
  {
   "cell_type": "code",
   "execution_count": 104,
   "metadata": {},
   "outputs": [
    {
     "data": {
      "text/plain": [
       "['Solar.R', 'Wind', 'Temp', 'Month', 'Day']"
      ]
     },
     "execution_count": 104,
     "metadata": {},
     "output_type": "execute_result"
    }
   ],
   "source": []
  },
  {
   "cell_type": "code",
   "execution_count": 114,
   "metadata": {},
   "outputs": [
    {
     "data": {
      "text/plain": [
       "array([-0.00985555, -0.50057657,  1.11323779, -0.32261542,  0.23178149])"
      ]
     },
     "execution_count": 114,
     "metadata": {},
     "output_type": "execute_result"
    }
   ],
   "source": [
    "beta.values"
   ]
  },
  {
   "cell_type": "code",
   "execution_count": 116,
   "metadata": {},
   "outputs": [
    {
     "data": {
      "text/html": [
       "<div>\n",
       "<style scoped>\n",
       "    .dataframe tbody tr th:only-of-type {\n",
       "        vertical-align: middle;\n",
       "    }\n",
       "\n",
       "    .dataframe tbody tr th {\n",
       "        vertical-align: top;\n",
       "    }\n",
       "\n",
       "    .dataframe thead th {\n",
       "        text-align: right;\n",
       "    }\n",
       "</style>\n",
       "<table border=\"1\" class=\"dataframe\">\n",
       "  <thead>\n",
       "    <tr style=\"text-align: right;\">\n",
       "      <th></th>\n",
       "      <th>coeff</th>\n",
       "    </tr>\n",
       "  </thead>\n",
       "  <tbody>\n",
       "    <tr>\n",
       "      <th>Solar.R</th>\n",
       "      <td>-0.009856</td>\n",
       "    </tr>\n",
       "    <tr>\n",
       "      <th>Wind</th>\n",
       "      <td>-0.500577</td>\n",
       "    </tr>\n",
       "    <tr>\n",
       "      <th>Temp</th>\n",
       "      <td>1.113238</td>\n",
       "    </tr>\n",
       "    <tr>\n",
       "      <th>Month</th>\n",
       "      <td>-0.322615</td>\n",
       "    </tr>\n",
       "    <tr>\n",
       "      <th>Day</th>\n",
       "      <td>0.231781</td>\n",
       "    </tr>\n",
       "  </tbody>\n",
       "</table>\n",
       "</div>"
      ],
      "text/plain": [
       "            coeff\n",
       "Solar.R -0.009856\n",
       "Wind    -0.500577\n",
       "Temp     1.113238\n",
       "Month   -0.322615\n",
       "Day      0.231781"
      ]
     },
     "execution_count": 116,
     "metadata": {},
     "output_type": "execute_result"
    }
   ],
   "source": [
    "pd.DataFrame({\"coeff\" : beta.values}, index=X.columns.tolist())"
   ]
  },
  {
   "cell_type": "code",
   "execution_count": 105,
   "metadata": {},
   "outputs": [
    {
     "ename": "TypeError",
     "evalue": "Series.name must be a hashable type",
     "output_type": "error",
     "traceback": [
      "\u001b[0;31m---------------------------------------------------------------------------\u001b[0m",
      "\u001b[0;31mTypeError\u001b[0m                                 Traceback (most recent call last)",
      "Cell \u001b[0;32mIn[105], line 1\u001b[0m\n\u001b[0;32m----> 1\u001b[0m beta\u001b[39m.\u001b[39;49mrename(index \u001b[39m=\u001b[39;49m X\u001b[39m.\u001b[39;49mcolumns\u001b[39m.\u001b[39;49mtolist())\n",
      "File \u001b[0;32m~/.local/lib/python3.10/site-packages/pandas/core/series.py:5005\u001b[0m, in \u001b[0;36mSeries.rename\u001b[0;34m(self, index, axis, copy, inplace, level, errors)\u001b[0m\n\u001b[1;32m   4997\u001b[0m     \u001b[39mreturn\u001b[39;00m \u001b[39msuper\u001b[39m()\u001b[39m.\u001b[39m_rename(\n\u001b[1;32m   4998\u001b[0m         index,  \u001b[39m# type: ignore[arg-type]\u001b[39;00m\n\u001b[1;32m   4999\u001b[0m         copy\u001b[39m=\u001b[39mcopy,\n\u001b[0;32m   (...)\u001b[0m\n\u001b[1;32m   5002\u001b[0m         errors\u001b[39m=\u001b[39merrors,\n\u001b[1;32m   5003\u001b[0m     )\n\u001b[1;32m   5004\u001b[0m \u001b[39melse\u001b[39;00m:\n\u001b[0;32m-> 5005\u001b[0m     \u001b[39mreturn\u001b[39;00m \u001b[39mself\u001b[39;49m\u001b[39m.\u001b[39;49m_set_name(index, inplace\u001b[39m=\u001b[39;49minplace)\n",
      "File \u001b[0;32m~/.local/lib/python3.10/site-packages/pandas/core/series.py:1960\u001b[0m, in \u001b[0;36mSeries._set_name\u001b[0;34m(self, name, inplace)\u001b[0m\n\u001b[1;32m   1958\u001b[0m inplace \u001b[39m=\u001b[39m validate_bool_kwarg(inplace, \u001b[39m\"\u001b[39m\u001b[39minplace\u001b[39m\u001b[39m\"\u001b[39m)\n\u001b[1;32m   1959\u001b[0m ser \u001b[39m=\u001b[39m \u001b[39mself\u001b[39m \u001b[39mif\u001b[39;00m inplace \u001b[39melse\u001b[39;00m \u001b[39mself\u001b[39m\u001b[39m.\u001b[39mcopy()\n\u001b[0;32m-> 1960\u001b[0m ser\u001b[39m.\u001b[39;49mname \u001b[39m=\u001b[39m name\n\u001b[1;32m   1961\u001b[0m \u001b[39mreturn\u001b[39;00m ser\n",
      "File \u001b[0;32m~/.local/lib/python3.10/site-packages/pandas/core/generic.py:5915\u001b[0m, in \u001b[0;36mNDFrame.__setattr__\u001b[0;34m(self, name, value)\u001b[0m\n\u001b[1;32m   5913\u001b[0m \u001b[39mtry\u001b[39;00m:\n\u001b[1;32m   5914\u001b[0m     \u001b[39mobject\u001b[39m\u001b[39m.\u001b[39m\u001b[39m__getattribute__\u001b[39m(\u001b[39mself\u001b[39m, name)\n\u001b[0;32m-> 5915\u001b[0m     \u001b[39mreturn\u001b[39;00m \u001b[39mobject\u001b[39;49m\u001b[39m.\u001b[39;49m\u001b[39m__setattr__\u001b[39;49m(\u001b[39mself\u001b[39;49m, name, value)\n\u001b[1;32m   5916\u001b[0m \u001b[39mexcept\u001b[39;00m \u001b[39mAttributeError\u001b[39;00m:\n\u001b[1;32m   5917\u001b[0m     \u001b[39mpass\u001b[39;00m\n",
      "File \u001b[0;32m~/.local/lib/python3.10/site-packages/pandas/core/series.py:663\u001b[0m, in \u001b[0;36mSeries.name\u001b[0;34m(self, value)\u001b[0m\n\u001b[1;32m    661\u001b[0m \u001b[39m@name\u001b[39m\u001b[39m.\u001b[39msetter\n\u001b[1;32m    662\u001b[0m \u001b[39mdef\u001b[39;00m \u001b[39mname\u001b[39m(\u001b[39mself\u001b[39m, value: Hashable) \u001b[39m-\u001b[39m\u001b[39m>\u001b[39m \u001b[39mNone\u001b[39;00m:\n\u001b[0;32m--> 663\u001b[0m     validate_all_hashable(value, error_name\u001b[39m=\u001b[39;49m\u001b[39mf\u001b[39;49m\u001b[39m\"\u001b[39;49m\u001b[39m{\u001b[39;49;00m\u001b[39mtype\u001b[39;49m(\u001b[39mself\u001b[39;49m)\u001b[39m.\u001b[39;49m\u001b[39m__name__\u001b[39;49m\u001b[39m}\u001b[39;49;00m\u001b[39m.name\u001b[39;49m\u001b[39m\"\u001b[39;49m)\n\u001b[1;32m    664\u001b[0m     \u001b[39mobject\u001b[39m\u001b[39m.\u001b[39m\u001b[39m__setattr__\u001b[39m(\u001b[39mself\u001b[39m, \u001b[39m\"\u001b[39m\u001b[39m_name\u001b[39m\u001b[39m\"\u001b[39m, value)\n",
      "File \u001b[0;32m~/.local/lib/python3.10/site-packages/pandas/core/dtypes/common.py:1746\u001b[0m, in \u001b[0;36mvalidate_all_hashable\u001b[0;34m(error_name, *args)\u001b[0m\n\u001b[1;32m   1744\u001b[0m \u001b[39mif\u001b[39;00m \u001b[39mnot\u001b[39;00m \u001b[39mall\u001b[39m(is_hashable(arg) \u001b[39mfor\u001b[39;00m arg \u001b[39min\u001b[39;00m args):\n\u001b[1;32m   1745\u001b[0m     \u001b[39mif\u001b[39;00m error_name:\n\u001b[0;32m-> 1746\u001b[0m         \u001b[39mraise\u001b[39;00m \u001b[39mTypeError\u001b[39;00m(\u001b[39mf\u001b[39m\u001b[39m\"\u001b[39m\u001b[39m{\u001b[39;00merror_name\u001b[39m}\u001b[39;00m\u001b[39m must be a hashable type\u001b[39m\u001b[39m\"\u001b[39m)\n\u001b[1;32m   1747\u001b[0m     \u001b[39melse\u001b[39;00m:\n\u001b[1;32m   1748\u001b[0m         \u001b[39mraise\u001b[39;00m \u001b[39mTypeError\u001b[39;00m(\u001b[39m\"\u001b[39m\u001b[39mAll elements must be hashable\u001b[39m\u001b[39m\"\u001b[39m)\n",
      "\u001b[0;31mTypeError\u001b[0m: Series.name must be a hashable type"
     ]
    }
   ],
   "source": [
    "beta.rename(index = X.columns.tolist())"
   ]
  }
 ],
 "metadata": {
  "kernelspec": {
   "display_name": "Python 3",
   "language": "python",
   "name": "python3"
  },
  "language_info": {
   "codemirror_mode": {
    "name": "ipython",
    "version": 3
   },
   "file_extension": ".py",
   "mimetype": "text/x-python",
   "name": "python",
   "nbconvert_exporter": "python",
   "pygments_lexer": "ipython3",
   "version": "3.10.9"
  },
  "orig_nbformat": 4,
  "vscode": {
   "interpreter": {
    "hash": "e7370f93d1d0cde622a1f8e1c04877d8463912d04d973331ad4851f04de6915a"
   }
  }
 },
 "nbformat": 4,
 "nbformat_minor": 2
}
